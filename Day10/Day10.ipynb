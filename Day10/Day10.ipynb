{
  "cells": [
    {
      "cell_type": "code",
      "execution_count": 2,
      "metadata": {},
      "outputs": [
        {
          "data": {
            "text/plain": [
              "device(type='cuda', index=0)"
            ]
          },
          "execution_count": 2,
          "metadata": {},
          "output_type": "execute_result"
        }
      ],
      "source": [
        "import torch\n",
        "torch.device('cuda:0')"
      ]
    },
    {
      "cell_type": "code",
      "execution_count": 3,
      "metadata": {},
      "outputs": [
        {
          "name": "stderr",
          "output_type": "stream",
          "text": [
            "Hardware accelerator e.g. GPU is available in the environment, but no `device` argument is passed to the `Pipeline` object. Model will be on CPU.\n"
          ]
        },
        {
          "name": "stdout",
          "output_type": "stream",
          "text": [
            "यह एक परीक्षण है।\n"
          ]
        }
      ],
      "source": [
        "import os\n",
        "os.environ[\"TRANSFORMERS_NO_TF\"] = \"1\"\n",
        "\n",
        "from transformers import pipeline\n",
        "\n",
        "translator = pipeline(\"translation\", model=\"facebook/nllb-200-distilled-600M\", framework=\"pt\")\n",
        "\n",
        "text = \"This is a test.\"\n",
        "translated = translator(text, src_lang=\"eng_Latn\", tgt_lang=\"hin_Deva\")\n",
        "print(translated[0]['translation_text'])\n"
      ]
    },
    {
      "cell_type": "code",
      "execution_count": 4,
      "metadata": {
        "colab": {
          "base_uri": "https://localhost:8080/"
        },
        "id": "8NGUWUHlZWd8",
        "outputId": "e5c14024-3cdc-483a-8808-4e524b9c6638"
      },
      "outputs": [
        {
          "name": "stderr",
          "output_type": "stream",
          "text": [
            "Hardware accelerator e.g. GPU is available in the environment, but no `device` argument is passed to the `Pipeline` object. Model will be on CPU.\n"
          ]
        },
        {
          "name": "stdout",
          "output_type": "stream",
          "text": [
            "Original English Text: The internship was cool!.\n",
            "==================================================\n",
            "Kannada: ಆ ಇಂಟರ್ನ್ಶಿಪ್ ಚೆನ್ನಾಗಿತ್ತು!\n",
            "Hindi: इंटर्नशिप कूल था!\n",
            "Tamil: பயிற்சி மிகவும் அருமையாக இருந்தது!\n",
            "\n",
            "============================================================\n",
            "TESTING WITH DIFFERENT SENTENCES\n",
            "============================================================\n",
            "\n",
            "Translating: 'Hello, how are you today?'\n",
            "==================================================\n",
            "Kannada: ಹಲೋ, ಇಂದು ನೀವು ಹೇಗೆ?\n",
            "Hindi: हैलो, आज आप कैसे हैं?\n",
            "Tamil: வணக்கம், இன்று எப்படி இருக்கிறீர்கள்?\n",
            "----------------------------------------\n",
            "\n",
            "Translating: 'I am learning to code in Python.'\n",
            "==================================================\n",
            "Kannada: ನಾನು ಪೈಥಾನ್ ನಲ್ಲಿ ಕೋಡ್ ಕಲಿಯುತ್ತಿದ್ದೇನೆ.\n",
            "Hindi: मैं पायथन में कोड सीख रहा हूँ।\n",
            "Tamil: நான் பைதான் குறியீட்டைக் கற்றுக் கொண்டிருக்கிறேன்.\n",
            "----------------------------------------\n",
            "\n",
            "Translating: 'The weather is beautiful today.'\n",
            "==================================================\n",
            "Kannada: ಇಂದು ಹವಾಮಾನ ಸುಂದರವಾಗಿರುತ್ತದೆ.\n",
            "Hindi: आज मौसम सुंदर है।\n",
            "Tamil: இன்று வானிலை அழகாக இருக்கிறது.\n",
            "----------------------------------------\n",
            "\n",
            "Translating: 'Thank you for your help.'\n",
            "==================================================\n",
            "Kannada: ನಿಮ್ಮ ಸಹಾಯಕ್ಕಾಗಿ ಧನ್ಯವಾದಗಳು.\n",
            "Hindi: आपकी मदद के लिए धन्यवाद.\n",
            "Tamil: உங்கள் உதவிக்கு நன்றி.\n",
            "----------------------------------------\n"
          ]
        }
      ],
      "source": [
        "from transformers import pipeline\n",
        "from langdetect import detect\n",
        "\n",
        "# Initialize the translator with NLLB model\n",
        "# translator = pipeline(\"translation\", model=\"facebook/nllb-200-distilled-600M\")\n",
        "\n",
        "translator = pipeline(\"translation\", model=\"facebook/nllb-200-distilled-600M\", framework=\"pt\")\n",
        "\n",
        "# Mapping from detected langdetect code to NLLB source language codes\n",
        "langdetect_to_nllb = {\n",
        "    'en': 'eng_Latn',\n",
        "    'hi': 'hin_Deva',\n",
        "    'fr': 'fra_Latn',\n",
        "    'es': 'spa_Latn',\n",
        "    'kn': 'kan_Knda',  # Kannada\n",
        "    'ta': 'tam_Taml',  # Tamil\n",
        "}\n",
        "\n",
        "def translate(text, target_lang):\n",
        "    \"\"\"\n",
        "    Translate text to target language\n",
        "    \"\"\"\n",
        "    try:\n",
        "        detected = detect(text)\n",
        "        source_lang = langdetect_to_nllb.get(detected, 'eng_Latn')\n",
        "    except:\n",
        "        source_lang = 'eng_Latn'\n",
        "        print(\"Could not detect language, defaulting to English.\")\n",
        "\n",
        "    return translator(text, src_lang=source_lang, tgt_lang=target_lang)[0][\"translation_text\"]\n",
        "\n",
        "# Input English text\n",
        "english_text = 'The internship was cool!.'\n",
        "\n",
        "# Target language codes for Indian languages\n",
        "kannada_code = \"kan_Knda\"  # Kannada\n",
        "hindi_code = \"hin_Deva\"    # Hindi\n",
        "tamil_code = \"tam_Taml\"    # Tamil\n",
        "\n",
        "# Translate to Indian languages\n",
        "print(\"Original English Text:\", english_text)\n",
        "print(\"=\" * 50)\n",
        "\n",
        "try:\n",
        "    kannada_translation = translate(english_text, target_lang=kannada_code)\n",
        "    print(\"Kannada:\", kannada_translation)\n",
        "except Exception as e:\n",
        "    print(f\"Error translating to Kannada: {e}\")\n",
        "\n",
        "try:\n",
        "    hindi_translation = translate(english_text, target_lang=hindi_code)\n",
        "    print(\"Hindi:\", hindi_translation)\n",
        "except Exception as e:\n",
        "    print(f\"Error translating to Hindi: {e}\")\n",
        "\n",
        "try:\n",
        "    tamil_translation = translate(english_text, target_lang=tamil_code)\n",
        "    print(\"Tamil:\", tamil_translation)\n",
        "except Exception as e:\n",
        "    print(f\"Error translating to Tamil: {e}\")\n",
        "\n",
        "# Function to translate any English text to all three Indian languages\n",
        "def translate_to_indian_languages(english_text):\n",
        "    \"\"\"\n",
        "    Translate English text to Kannada, Hindi, and Tamil\n",
        "    \"\"\"\n",
        "    languages = {\n",
        "        'Kannada': 'kan_Knda',\n",
        "        'Hindi': 'hin_Deva',\n",
        "        'Tamil': 'tam_Taml'\n",
        "    }\n",
        "\n",
        "    results = {}\n",
        "    print(f\"Translating: '{english_text}'\")\n",
        "    print(\"=\" * 50)\n",
        "\n",
        "    for lang_name, lang_code in languages.items():\n",
        "        try:\n",
        "            translation = translate(english_text, target_lang=lang_code)\n",
        "            results[lang_name] = translation\n",
        "            print(f\"{lang_name}: {translation}\")\n",
        "        except Exception as e:\n",
        "            print(f\"Error translating to {lang_name}: {e}\")\n",
        "            results[lang_name] = None\n",
        "\n",
        "    return results\n",
        "\n",
        "# Example usage with different texts\n",
        "print(\"\\n\" + \"=\" * 60)\n",
        "print(\"TESTING WITH DIFFERENT SENTENCES\")\n",
        "print(\"=\" * 60)\n",
        "\n",
        "# Test sentences\n",
        "test_sentences = [\n",
        "    \"Hello, how are you today?\",\n",
        "    \"I am learning to code in Python.\",\n",
        "    \"The weather is beautiful today.\",\n",
        "    \"Thank you for your help.\"\n",
        "]\n",
        "\n",
        "for sentence in test_sentences:\n",
        "    print()\n",
        "    translate_to_indian_languages(sentence)\n",
        "    print(\"-\" * 40)\n"
      ]
    },
    {
      "cell_type": "code",
      "execution_count": null,
      "metadata": {
        "id": "qbCz9rwebG0m"
      },
      "outputs": [],
      "source": []
    }
  ],
  "metadata": {
    "accelerator": "GPU",
    "colab": {
      "gpuType": "T4",
      "provenance": []
    },
    "kernelspec": {
      "display_name": "myenv",
      "language": "python",
      "name": "python3"
    },
    "language_info": {
      "codemirror_mode": {
        "name": "ipython",
        "version": 3
      },
      "file_extension": ".py",
      "mimetype": "text/x-python",
      "name": "python",
      "nbconvert_exporter": "python",
      "pygments_lexer": "ipython3",
      "version": "3.8.20"
    }
  },
  "nbformat": 4,
  "nbformat_minor": 0
}
